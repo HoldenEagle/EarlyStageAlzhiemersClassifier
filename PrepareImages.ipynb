{
 "cells": [
  {
   "cell_type": "code",
   "execution_count": 1,
   "id": "f5913a3d-dfa1-4a53-986e-8be1397b718c",
   "metadata": {},
   "outputs": [],
   "source": [
    "#resize images and convert to RGB for DenseNet 121, 224 × 224\n",
    "import os\n",
    "#Create the output file directories\n",
    "output_MRI_images = \"Processed_MRI_Data\"\n",
    "sub_output_directories = [\"Mild Dementia\", \"Moderate Dementia\", \"Very mild Dementia\", \"Non Demented\"]\n",
    "os.makedirs(output_MRI_images, exist_ok=True)\n",
    "\n",
    "for sub_dir in sub_output_directories:\n",
    "    new_path = os.path.join(output_MRI_images, sub_dir)\n",
    "    os.makedirs(new_path, exist_ok= True)"
   ]
  },
  {
   "cell_type": "code",
   "execution_count": 2,
   "id": "0c42a21e-f765-4f85-bc7c-4d083b04ddde",
   "metadata": {},
   "outputs": [],
   "source": [
    "#loop through input file directories, resize to 224x224 and convert from grayscale to RGB\n",
    "from PIL import Image\n",
    "input_MRI_images = \"Alzhiehmer_MRI_Data\"\n",
    "sub_input_directories = [\"Mild Dementia\", \"Moderate Dementia\", \"Very mild Dementia\", \"Non Demented\"]\n",
    "for ind,sub_dir in enumerate(sub_input_directories):\n",
    "    dir_path = os.path.join(input_MRI_images, sub_dir)\n",
    "    for mri_image in os.listdir(dir_path):\n",
    "        if mri_image.lower().endswith((\".jpg\")):\n",
    "            mri_image_path = os.path.join(dir_path, mri_image)\n",
    "            image = Image.open(mri_image_path)\n",
    "            image = image.convert(\"RGB\")\n",
    "            image = image.resize((224, 224))\n",
    "            proper_output_folder = os.path.join(output_MRI_images , sub_output_directories[ind])\n",
    "            new_file_name = os.path.join(proper_output_folder, mri_image)\n",
    "            image.save(new_file_name)\n",
    "\n",
    "        "
   ]
  },
  {
   "cell_type": "code",
   "execution_count": 3,
   "id": "b1f158e3-a52c-4478-a791-e2f21cb3d6c4",
   "metadata": {},
   "outputs": [
    {
     "name": "stdout",
     "output_type": "stream",
     "text": [
      "5002\n",
      "488\n",
      "13725\n",
      "67222\n",
      "-----------------------------\n",
      "5002\n",
      "488\n",
      "13725\n",
      "67222\n"
     ]
    }
   ],
   "source": [
    "#make sure we have enough images in the output directories\n",
    "output_MRI_images = \"Processed_MRI_Data\"\n",
    "sub_output_directories = [\"Mild Dementia\", \"Moderate Dementia\", \"Very mild Dementia\", \"Non Demented\"]\n",
    "for sub_dir in sub_output_directories:\n",
    "    new_path = os.path.join(output_MRI_images, sub_dir)\n",
    "    print(len(os.listdir(new_path)))\n",
    "print(\"-----------------------------\")\n",
    "input_MRI_images = \"Alzhiehmer_MRI_Data\"\n",
    "sub_input_directories = [\"Mild Dementia\", \"Moderate Dementia\", \"Very mild Dementia\", \"Non Demented\"]\n",
    "for sub_dir in sub_input_directories:\n",
    "    new_path = os.path.join(input_MRI_images, sub_dir)\n",
    "    print(len(os.listdir(new_path)))\n",
    "    "
   ]
  },
  {
   "cell_type": "code",
   "execution_count": 4,
   "id": "0cf04bbd-4bcd-4bb0-a3f7-ec958db53200",
   "metadata": {},
   "outputs": [],
   "source": [
    "#Now we will get the first model set up (Non Demented vs Any sign of Dementia)\n",
    "import os\n",
    "from PIL import Image\n",
    "input_MRI_images = \"Processed_MRI_Data\"\n",
    "sub_input_directories = [\"Mild Dementia\", \"Moderate Dementia\", \"Very mild Dementia\", \"Non Demented\"]\n",
    "\n",
    "output_MRI_images = \"Processed_MRI_Data_For_First_Model\"\n",
    "sub_output_directories = [\"Signs_of_Dementia\" , \"Non_Demented\"]\n",
    "\n",
    "for sub_dir in sub_output_directories:\n",
    "    new_path = os.path.join(output_MRI_images, sub_dir)\n",
    "    os.makedirs(new_path, exist_ok= True)\n",
    "\n",
    "\n",
    "for ind,sub_dir in enumerate(sub_input_directories):\n",
    "    dir_path = os.path.join(input_MRI_images, sub_dir)\n",
    "    for mri_image in os.listdir(dir_path):\n",
    "        if mri_image.lower().endswith((\".jpg\")):\n",
    "            mri_image_path = os.path.join(dir_path, mri_image)\n",
    "            image = Image.open(mri_image_path)\n",
    "            if(ind != 3):\n",
    "                proper_output_folder = os.path.join(output_MRI_images , sub_output_directories[0])\n",
    "            else:\n",
    "                proper_output_folder = os.path.join(output_MRI_images , sub_output_directories[1])\n",
    "            new_file_name = os.path.join(proper_output_folder, mri_image)\n",
    "            image.save(new_file_name)\n"
   ]
  },
  {
   "cell_type": "code",
   "execution_count": null,
   "id": "730d7ce7-c1bc-4822-a3ed-4042f3877e09",
   "metadata": {},
   "outputs": [],
   "source": [
    "#Sets up images for second model\n",
    "import os\n",
    "from PIL import Image\n",
    "input_MRI_images = \"Processed_MRI_Data\"\n",
    "sub_input_directories = [\"Mild Dementia\", \"Moderate Dementia\", \"Very mild Dementia\", \"Non Demented\"]\n",
    "output_MRI_images = \"Processed_MRI_Data_For_Second_Model\"\n",
    "sub_output_directories = [\"Signs_of_Mild_Dementia\" , \"Signs_of_Moderate_Dimentia\"]\n",
    "\n",
    "for sub_dir in sub_output_directories:\n",
    "    new_path = os.path.join(output_MRI_images, sub_dir)\n",
    "    os.makedirs(new_path, exist_ok= True)\n",
    "\n",
    "for ind,sub_dir in enumerate(sub_input_directories):\n",
    "    if(ind == 3):\n",
    "        continue\n",
    "    dir_path = os.path.join(input_MRI_images, sub_dir)\n",
    "    for mri_image in os.listdir(dir_path):\n",
    "        if mri_image.lower().endswith((\".jpg\")):\n",
    "            mri_image_path = os.path.join(dir_path, mri_image)\n",
    "            image = Image.open(mri_image_path)\n",
    "            if(ind != 1):\n",
    "                proper_output_folder = os.path.join(output_MRI_images , sub_output_directories[0])\n",
    "            else:\n",
    "                proper_output_folder = os.path.join(output_MRI_images , sub_output_directories[1])\n",
    "            new_file_name = os.path.join(proper_output_folder, mri_image)\n",
    "            image.save(new_file_name)\n",
    "            \n",
    "            \n",
    "            \n",
    "        \n",
    "   \n"
   ]
  },
  {
   "cell_type": "code",
   "execution_count": null,
   "id": "14fa0d67-01c6-4433-89e5-ffa573df47eb",
   "metadata": {},
   "outputs": [],
   "source": [
    "#sets up images for third model\n",
    "import os\n",
    "from PIL import Image\n",
    "input_MRI_images = \"Processed_MRI_Data\"\n",
    "sub_input_directories = [\"Mild Dementia\", \"Moderate Dementia\", \"Very mild Dementia\", \"Non Demented\"]\n",
    "output_MRI_images = \"Processed_MRI_Data_For_Third_Model\"\n",
    "sub_output_directories = [\"Signs_of_Very_Mild_Dementia\" , \"Signs_of_Mild_Dimentia\"]\n",
    "\n",
    "for sub_dir in sub_output_directories:\n",
    "    new_path = os.path.join(output_MRI_images, sub_dir)\n",
    "    os.makedirs(new_path, exist_ok= True)\n",
    "\n",
    "for ind,sub_dir in enumerate(sub_input_directories):\n",
    "    if(ind == 3 or ind == 1):\n",
    "        continue\n",
    "    dir_path = os.path.join(input_MRI_images, sub_dir)\n",
    "    for mri_image in os.listdir(dir_path):\n",
    "        if mri_image.lower().endswith((\".jpg\")):\n",
    "            mri_image_path = os.path.join(dir_path, mri_image)\n",
    "            image = Image.open(mri_image_path)\n",
    "            if(ind != 0):\n",
    "                proper_output_folder = os.path.join(output_MRI_images , sub_output_directories[0])\n",
    "            else:\n",
    "                proper_output_folder = os.path.join(output_MRI_images , sub_output_directories[1])\n",
    "            new_file_name = os.path.join(proper_output_folder, mri_image)\n",
    "            image.save(new_file_name)"
   ]
  },
  {
   "cell_type": "code",
   "execution_count": null,
   "id": "bb9836ab-46c7-4eea-92a6-87b5f9dc95f1",
   "metadata": {},
   "outputs": [],
   "source": []
  }
 ],
 "metadata": {
  "kernelspec": {
   "display_name": "Python 3 (ipykernel)",
   "language": "python",
   "name": "python3"
  },
  "language_info": {
   "codemirror_mode": {
    "name": "ipython",
    "version": 3
   },
   "file_extension": ".py",
   "mimetype": "text/x-python",
   "name": "python",
   "nbconvert_exporter": "python",
   "pygments_lexer": "ipython3",
   "version": "3.11.7"
  }
 },
 "nbformat": 4,
 "nbformat_minor": 5
}
